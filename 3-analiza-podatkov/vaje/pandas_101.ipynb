{
 "cells": [
  {
   "cell_type": "markdown",
   "metadata": {},
   "source": [
    "# Analiza podatkov s pandas\n",
    "\n",
    "[Pandas quick-start guide](http://pandas.pydata.org/pandas-docs/stable/10min.html)  \n",
    "[Pandas documentation](http://pandas.pydata.org/pandas-docs/stable/)  \n",
    "[Lecture notes on pandas](../predavanja/Analiza podatkov s knjižnico Pandas.ipynb)\n"
   ]
  },
  {
   "cell_type": "markdown",
   "metadata": {},
   "source": [
    "### Naložimo pandas in podatke"
   ]
  },
  {
   "cell_type": "code",
   "execution_count": 2,
   "metadata": {
    "collapsed": true
   },
   "outputs": [],
   "source": [
    "# naložimo paket\n",
    "import pandas as pd\n",
    "\n",
    "# ker bomo delali z velikimi razpredelnicami, povemo, da naj se vedno izpiše le 10 vrstic\n",
    "pd.options.display.max_rows = 10\n",
    "\n",
<<<<<<< HEAD
    "# select an interactive \"notebook\" plot style\n",
    "%matplotlib notebook\n",
    "# naložimo razpredelnico, s katero bomo delali\n",
    "filmi = pd.read_csv('filmi.csv', index_col='id')"
=======
    "# izberemo interaktivni \"notebook\" stil risanja\n",
    "\n",
    "# naložimo razpredelnico, s katero bomo delali"
>>>>>>> 6f2c567309c420a908c094a18af2a977ae605a7c
   ]
  },
  {
   "cell_type": "markdown",
   "metadata": {},
   "source": [
    "Poglejmo si podatke."
   ]
  },
  {
   "cell_type": "code",
   "execution_count": 4,
   "metadata": {},
   "outputs": [
    {
     "data": {
      "text/html": [
       "<div>\n",
       "<style>\n",
       "    .dataframe thead tr:only-child th {\n",
       "        text-align: right;\n",
       "    }\n",
       "\n",
       "    .dataframe thead th {\n",
       "        text-align: left;\n",
       "    }\n",
       "\n",
       "    .dataframe tbody tr th {\n",
       "        vertical-align: top;\n",
       "    }\n",
       "</style>\n",
       "<table border=\"1\" class=\"dataframe\">\n",
       "  <thead>\n",
       "    <tr style=\"text-align: right;\">\n",
       "      <th></th>\n",
       "      <th>naslov</th>\n",
       "      <th>dolzina</th>\n",
       "      <th>leto</th>\n",
       "      <th>ocena</th>\n",
       "      <th>metascore</th>\n",
       "      <th>glasovi</th>\n",
       "      <th>zasluzek</th>\n",
       "      <th>opis</th>\n",
       "    </tr>\n",
       "    <tr>\n",
       "      <th>id</th>\n",
       "      <th></th>\n",
       "      <th></th>\n",
       "      <th></th>\n",
       "      <th></th>\n",
       "      <th></th>\n",
       "      <th></th>\n",
       "      <th></th>\n",
       "      <th></th>\n",
       "    </tr>\n",
       "  </thead>\n",
       "  <tbody>\n",
       "    <tr>\n",
       "      <th>12349</th>\n",
       "      <td>The Kid</td>\n",
       "      <td>68</td>\n",
       "      <td>1921</td>\n",
       "      <td>8.3</td>\n",
       "      <td>NaN</td>\n",
       "      <td>90443</td>\n",
       "      <td>5450000.0</td>\n",
       "      <td>The Tramp cares for an abandoned child, but ev...</td>\n",
       "    </tr>\n",
       "    <tr>\n",
       "      <th>13442</th>\n",
       "      <td>Nosferatu, simfonija groze</td>\n",
       "      <td>94</td>\n",
       "      <td>1922</td>\n",
       "      <td>8.0</td>\n",
       "      <td>NaN</td>\n",
       "      <td>77975</td>\n",
       "      <td>NaN</td>\n",
       "      <td>Vampire Count Orlok expresses interest in a ne...</td>\n",
       "    </tr>\n",
       "    <tr>\n",
       "      <th>15864</th>\n",
       "      <td>Zlata mrzlica</td>\n",
       "      <td>95</td>\n",
       "      <td>1925</td>\n",
       "      <td>8.2</td>\n",
       "      <td>NaN</td>\n",
       "      <td>85136</td>\n",
       "      <td>5450000.0</td>\n",
       "      <td>A prospector goes to the Klondike in search of...</td>\n",
       "    </tr>\n",
       "    <tr>\n",
       "      <th>17136</th>\n",
       "      <td>Metropolis</td>\n",
       "      <td>153</td>\n",
       "      <td>1927</td>\n",
       "      <td>8.3</td>\n",
       "      <td>98.0</td>\n",
       "      <td>136601</td>\n",
       "      <td>26435.0</td>\n",
       "      <td>In a futuristic city sharply divided between t...</td>\n",
       "    </tr>\n",
       "    <tr>\n",
       "      <th>17925</th>\n",
       "      <td>General</td>\n",
       "      <td>67</td>\n",
       "      <td>1926</td>\n",
       "      <td>8.2</td>\n",
       "      <td>NaN</td>\n",
       "      <td>68196</td>\n",
       "      <td>NaN</td>\n",
       "      <td>When Union spies steal an engineer's beloved l...</td>\n",
       "    </tr>\n",
       "    <tr>\n",
       "      <th>...</th>\n",
       "      <td>...</td>\n",
       "      <td>...</td>\n",
       "      <td>...</td>\n",
       "      <td>...</td>\n",
       "      <td>...</td>\n",
       "      <td>...</td>\n",
       "      <td>...</td>\n",
       "      <td>...</td>\n",
       "    </tr>\n",
       "    <tr>\n",
       "      <th>5813916</th>\n",
       "      <td>Dag II</td>\n",
       "      <td>135</td>\n",
       "      <td>2016</td>\n",
       "      <td>9.4</td>\n",
       "      <td>NaN</td>\n",
       "      <td>98201</td>\n",
       "      <td>NaN</td>\n",
       "      <td>In a desolate war zone where screams of the in...</td>\n",
       "    </tr>\n",
       "    <tr>\n",
       "      <th>5988370</th>\n",
       "      <td>Reis</td>\n",
       "      <td>108</td>\n",
       "      <td>2017</td>\n",
       "      <td>1.8</td>\n",
       "      <td>NaN</td>\n",
       "      <td>71685</td>\n",
       "      <td>NaN</td>\n",
       "      <td>A drama about the early life of Recep Tayyip E...</td>\n",
       "    </tr>\n",
       "    <tr>\n",
       "      <th>6294822</th>\n",
       "      <td>Zamolčani dokumenti</td>\n",
       "      <td>116</td>\n",
       "      <td>2017</td>\n",
       "      <td>7.2</td>\n",
       "      <td>83.0</td>\n",
       "      <td>89674</td>\n",
       "      <td>81903458.0</td>\n",
       "      <td>A cover-up that spanned four U.S. Presidents p...</td>\n",
       "    </tr>\n",
       "    <tr>\n",
       "      <th>6644200</th>\n",
       "      <td>A Quiet Place</td>\n",
       "      <td>90</td>\n",
       "      <td>2018</td>\n",
       "      <td>7.7</td>\n",
       "      <td>82.0</td>\n",
       "      <td>216675</td>\n",
       "      <td>188024361.0</td>\n",
       "      <td>In a post-apocalyptic world, a family is force...</td>\n",
       "    </tr>\n",
       "    <tr>\n",
       "      <th>7784604</th>\n",
       "      <td>Hereditary</td>\n",
       "      <td>127</td>\n",
       "      <td>2018</td>\n",
       "      <td>7.3</td>\n",
       "      <td>87.0</td>\n",
       "      <td>90642</td>\n",
       "      <td>44069456.0</td>\n",
       "      <td>After the family matriarch passes away, a grie...</td>\n",
       "    </tr>\n",
       "  </tbody>\n",
       "</table>\n",
       "<p>2500 rows × 8 columns</p>\n",
       "</div>"
      ],
      "text/plain": [
       "                             naslov  dolzina  leto  ocena  metascore  glasovi  \\\n",
       "id                                                                              \n",
       "12349                       The Kid       68  1921    8.3        NaN    90443   \n",
       "13442    Nosferatu, simfonija groze       94  1922    8.0        NaN    77975   \n",
       "15864                 Zlata mrzlica       95  1925    8.2        NaN    85136   \n",
       "17136                    Metropolis      153  1927    8.3       98.0   136601   \n",
       "17925                       General       67  1926    8.2        NaN    68196   \n",
       "...                             ...      ...   ...    ...        ...      ...   \n",
       "5813916                      Dag II      135  2016    9.4        NaN    98201   \n",
       "5988370                        Reis      108  2017    1.8        NaN    71685   \n",
       "6294822         Zamolčani dokumenti      116  2017    7.2       83.0    89674   \n",
       "6644200               A Quiet Place       90  2018    7.7       82.0   216675   \n",
       "7784604                  Hereditary      127  2018    7.3       87.0    90642   \n",
       "\n",
       "            zasluzek                                               opis  \n",
       "id                                                                       \n",
       "12349      5450000.0  The Tramp cares for an abandoned child, but ev...  \n",
       "13442            NaN  Vampire Count Orlok expresses interest in a ne...  \n",
       "15864      5450000.0  A prospector goes to the Klondike in search of...  \n",
       "17136        26435.0  In a futuristic city sharply divided between t...  \n",
       "17925            NaN  When Union spies steal an engineer's beloved l...  \n",
       "...              ...                                                ...  \n",
       "5813916          NaN  In a desolate war zone where screams of the in...  \n",
       "5988370          NaN  A drama about the early life of Recep Tayyip E...  \n",
       "6294822   81903458.0  A cover-up that spanned four U.S. Presidents p...  \n",
       "6644200  188024361.0  In a post-apocalyptic world, a family is force...  \n",
       "7784604   44069456.0  After the family matriarch passes away, a grie...  \n",
       "\n",
       "[2500 rows x 8 columns]"
      ]
     },
     "execution_count": 4,
     "metadata": {},
     "output_type": "execute_result"
    }
   ],
   "source": [
    "filmi"
   ]
  },
  {
   "cell_type": "markdown",
   "metadata": {},
   "source": [
    "## Proučevanje podatkov\n",
    "\n",
    "Razvrstite podatke po ocenah."
   ]
  },
  {
   "cell_type": "code",
   "execution_count": 5,
   "metadata": {},
   "outputs": [
    {
     "data": {
      "text/html": [
       "<div>\n",
       "<style>\n",
       "    .dataframe thead tr:only-child th {\n",
       "        text-align: right;\n",
       "    }\n",
       "\n",
       "    .dataframe thead th {\n",
       "        text-align: left;\n",
       "    }\n",
       "\n",
       "    .dataframe tbody tr th {\n",
       "        vertical-align: top;\n",
       "    }\n",
       "</style>\n",
       "<table border=\"1\" class=\"dataframe\">\n",
       "  <thead>\n",
       "    <tr style=\"text-align: right;\">\n",
       "      <th></th>\n",
       "      <th>naslov</th>\n",
       "      <th>dolzina</th>\n",
       "      <th>leto</th>\n",
       "      <th>ocena</th>\n",
       "      <th>metascore</th>\n",
       "      <th>glasovi</th>\n",
       "      <th>zasluzek</th>\n",
       "      <th>opis</th>\n",
       "    </tr>\n",
       "    <tr>\n",
       "      <th>id</th>\n",
       "      <th></th>\n",
       "      <th></th>\n",
       "      <th></th>\n",
       "      <th></th>\n",
       "      <th></th>\n",
       "      <th></th>\n",
       "      <th></th>\n",
       "      <th></th>\n",
       "    </tr>\n",
       "  </thead>\n",
       "  <tbody>\n",
       "    <tr>\n",
       "      <th>5988370</th>\n",
       "      <td>Reis</td>\n",
       "      <td>108</td>\n",
       "      <td>2017</td>\n",
       "      <td>1.8</td>\n",
       "      <td>NaN</td>\n",
       "      <td>71685</td>\n",
       "      <td>NaN</td>\n",
       "      <td>A drama about the early life of Recep Tayyip E...</td>\n",
       "    </tr>\n",
       "    <tr>\n",
       "      <th>1213644</th>\n",
       "      <td>Disaster Movie</td>\n",
       "      <td>87</td>\n",
       "      <td>2008</td>\n",
       "      <td>1.9</td>\n",
       "      <td>15.0</td>\n",
       "      <td>80828</td>\n",
       "      <td>14190901.0</td>\n",
       "      <td>Over the course of one evening, an unsuspectin...</td>\n",
       "    </tr>\n",
       "    <tr>\n",
       "      <th>799949</th>\n",
       "      <td>Velik film</td>\n",
       "      <td>86</td>\n",
       "      <td>2007</td>\n",
       "      <td>2.3</td>\n",
       "      <td>17.0</td>\n",
       "      <td>96182</td>\n",
       "      <td>39739367.0</td>\n",
       "      <td>A comedic satire of films that are large in sc...</td>\n",
       "    </tr>\n",
       "    <tr>\n",
       "      <th>185183</th>\n",
       "      <td>Battlefield Earth</td>\n",
       "      <td>118</td>\n",
       "      <td>2000</td>\n",
       "      <td>2.4</td>\n",
       "      <td>9.0</td>\n",
       "      <td>71149</td>\n",
       "      <td>21471685.0</td>\n",
       "      <td>It's the year 3000 A.D.; the Earth is lost to ...</td>\n",
       "    </tr>\n",
       "    <tr>\n",
       "      <th>1098327</th>\n",
       "      <td>Dragonball Evolution</td>\n",
       "      <td>85</td>\n",
       "      <td>2009</td>\n",
       "      <td>2.6</td>\n",
       "      <td>45.0</td>\n",
       "      <td>63966</td>\n",
       "      <td>9353573.0</td>\n",
       "      <td>The young warrior Son Goku sets out on a quest...</td>\n",
       "    </tr>\n",
       "    <tr>\n",
       "      <th>...</th>\n",
       "      <td>...</td>\n",
       "      <td>...</td>\n",
       "      <td>...</td>\n",
       "      <td>...</td>\n",
       "      <td>...</td>\n",
       "      <td>...</td>\n",
       "      <td>...</td>\n",
       "      <td>...</td>\n",
       "    </tr>\n",
       "    <tr>\n",
       "      <th>71562</th>\n",
       "      <td>Boter, II. del</td>\n",
       "      <td>202</td>\n",
       "      <td>1974</td>\n",
       "      <td>9.0</td>\n",
       "      <td>90.0</td>\n",
       "      <td>950252</td>\n",
       "      <td>57300000.0</td>\n",
       "      <td>The early life and career of Vito Corleone in ...</td>\n",
       "    </tr>\n",
       "    <tr>\n",
       "      <th>468569</th>\n",
       "      <td>Vitez teme</td>\n",
       "      <td>152</td>\n",
       "      <td>2008</td>\n",
       "      <td>9.0</td>\n",
       "      <td>84.0</td>\n",
       "      <td>1972591</td>\n",
       "      <td>534858444.0</td>\n",
       "      <td>When the menace known as the Joker emerges fro...</td>\n",
       "    </tr>\n",
       "    <tr>\n",
       "      <th>68646</th>\n",
       "      <td>Boter</td>\n",
       "      <td>175</td>\n",
       "      <td>1972</td>\n",
       "      <td>9.2</td>\n",
       "      <td>100.0</td>\n",
       "      <td>1372528</td>\n",
       "      <td>134966411.0</td>\n",
       "      <td>The aging patriarch of an organized crime dyna...</td>\n",
       "    </tr>\n",
       "    <tr>\n",
       "      <th>111161</th>\n",
       "      <td>Kaznilnica odrešitve</td>\n",
       "      <td>142</td>\n",
       "      <td>1994</td>\n",
       "      <td>9.3</td>\n",
       "      <td>80.0</td>\n",
       "      <td>2003395</td>\n",
       "      <td>28341469.0</td>\n",
       "      <td>Two imprisoned men bond over a number of years...</td>\n",
       "    </tr>\n",
       "    <tr>\n",
       "      <th>5813916</th>\n",
       "      <td>Dag II</td>\n",
       "      <td>135</td>\n",
       "      <td>2016</td>\n",
       "      <td>9.4</td>\n",
       "      <td>NaN</td>\n",
       "      <td>98201</td>\n",
       "      <td>NaN</td>\n",
       "      <td>In a desolate war zone where screams of the in...</td>\n",
       "    </tr>\n",
       "  </tbody>\n",
       "</table>\n",
       "<p>2500 rows × 8 columns</p>\n",
       "</div>"
      ],
      "text/plain": [
       "                       naslov  dolzina  leto  ocena  metascore  glasovi  \\\n",
       "id                                                                        \n",
       "5988370                  Reis      108  2017    1.8        NaN    71685   \n",
       "1213644        Disaster Movie       87  2008    1.9       15.0    80828   \n",
       "799949             Velik film       86  2007    2.3       17.0    96182   \n",
       "185183      Battlefield Earth      118  2000    2.4        9.0    71149   \n",
       "1098327  Dragonball Evolution       85  2009    2.6       45.0    63966   \n",
       "...                       ...      ...   ...    ...        ...      ...   \n",
       "71562          Boter, II. del      202  1974    9.0       90.0   950252   \n",
       "468569             Vitez teme      152  2008    9.0       84.0  1972591   \n",
       "68646                   Boter      175  1972    9.2      100.0  1372528   \n",
       "111161   Kaznilnica odrešitve      142  1994    9.3       80.0  2003395   \n",
       "5813916                Dag II      135  2016    9.4        NaN    98201   \n",
       "\n",
       "            zasluzek                                               opis  \n",
       "id                                                                       \n",
       "5988370          NaN  A drama about the early life of Recep Tayyip E...  \n",
       "1213644   14190901.0  Over the course of one evening, an unsuspectin...  \n",
       "799949    39739367.0  A comedic satire of films that are large in sc...  \n",
       "185183    21471685.0  It's the year 3000 A.D.; the Earth is lost to ...  \n",
       "1098327    9353573.0  The young warrior Son Goku sets out on a quest...  \n",
       "...              ...                                                ...  \n",
       "71562     57300000.0  The early life and career of Vito Corleone in ...  \n",
       "468569   534858444.0  When the menace known as the Joker emerges fro...  \n",
       "68646    134966411.0  The aging patriarch of an organized crime dyna...  \n",
       "111161    28341469.0  Two imprisoned men bond over a number of years...  \n",
       "5813916          NaN  In a desolate war zone where screams of the in...  \n",
       "\n",
       "[2500 rows x 8 columns]"
      ]
     },
     "execution_count": 5,
     "metadata": {},
     "output_type": "execute_result"
    }
   ],
   "source": [
    "filmi.sort_values('ocena')"
   ]
  },
  {
   "cell_type": "markdown",
   "metadata": {},
   "source": [
    "Poberite stolpec ocen."
   ]
  },
  {
   "cell_type": "code",
   "execution_count": 6,
   "metadata": {},
   "outputs": [
    {
     "data": {
      "text/plain": [
       "id\n",
       "12349      8.3\n",
       "13442      8.0\n",
       "15864      8.2\n",
       "17136      8.3\n",
       "17925      8.2\n",
       "          ... \n",
       "5813916    9.4\n",
       "5988370    1.8\n",
       "6294822    7.2\n",
       "6644200    7.7\n",
       "7784604    7.3\n",
       "Name: ocena, Length: 2500, dtype: float64"
      ]
     },
     "execution_count": 6,
     "metadata": {},
     "output_type": "execute_result"
    }
   ],
   "source": [
    "filmi.ocena"
   ]
  },
  {
   "cell_type": "markdown",
   "metadata": {},
   "source": [
    "Ukaza `filmi['ocena']` in `filmi[['ocena']]` sta različna:"
   ]
  },
  {
   "cell_type": "code",
   "execution_count": 11,
   "metadata": {},
   "outputs": [
    {
     "name": "stdout",
     "output_type": "stream",
     "text": [
      "<class 'pandas.core.series.Series'>\n",
      "<class 'pandas.core.frame.DataFrame'>\n"
     ]
    }
   ],
   "source": [
    "print(type(filmi['ocena']))\n",
    "print(type(filmi[['ocena']]))"
   ]
  },
  {
   "cell_type": "markdown",
   "metadata": {},
   "source": [
    "Stolpci objekta `DataFrame` so tipa `Series`. Z enojnimi oklepaji poberemo `Series`, z dvojnimi oklepaji pa `DataFrame` podtabelo. Večina operacij (grouping, joining, plotting,  filtering, ...) deluje na `DataFrame`. \n",
    "\n",
    "Tip `Series` se uporablja ko želimo npr. dodati stolpec."
   ]
  },
  {
   "cell_type": "markdown",
   "metadata": {},
   "source": [
    "Zaokrožite stolpec ocen z funkcijo `round()`."
   ]
  },
  {
   "cell_type": "code",
   "execution_count": 14,
   "metadata": {},
   "outputs": [
    {
     "data": {
      "text/plain": [
       "id\n",
       "12349      8.0\n",
       "13442      8.0\n",
       "15864      8.0\n",
       "17136      8.0\n",
       "17925      8.0\n",
       "          ... \n",
       "5813916    9.0\n",
       "5988370    2.0\n",
       "6294822    7.0\n",
       "6644200    8.0\n",
       "7784604    7.0\n",
       "Name: ocena, Length: 2500, dtype: float64"
      ]
     },
     "execution_count": 14,
     "metadata": {},
     "output_type": "execute_result"
    }
   ],
   "source": [
    "round(filmi.ocena)"
   ]
  },
  {
   "cell_type": "markdown",
   "metadata": {},
   "source": [
    "Dodajte zaokrožene vrednosti v podatke."
   ]
  },
  {
   "cell_type": "code",
   "execution_count": 17,
   "metadata": {
    "collapsed": true
   },
   "outputs": [],
   "source": [
    "filmi['zaokrozena_ocena'] = round(filmi.ocena)"
   ]
  },
  {
   "cell_type": "markdown",
   "metadata": {},
   "source": [
    "Odstranite novo dodani stolpec z metodo `.drop()` z podanim `columns = ` argumentom."
   ]
  },
  {
   "cell_type": "code",
   "execution_count": null,
   "metadata": {
    "collapsed": true
   },
   "outputs": [],
   "source": []
  },
  {
   "cell_type": "markdown",
   "metadata": {},
   "source": [
    "### Opomba: slice\n",
    "Izbira podtabele ustvari t.i. \"rezino\" oz. \"slice\".\n",
    "Slice ni kopija tabele, temveč zgolj sklic na izvorno tabelo,\n",
    "in je zato ne moremo spreminjati.\n",
    "Če želimo kopijo, uporabimo metodo `.copy()` na rezini, ki jo nato lahko spreminjamo.\n"
   ]
  },
  {
   "cell_type": "markdown",
   "metadata": {},
   "source": [
    "Izberite podtabelo s stolpci `naslov`, `leto`, in `glasovi`, kateri nato dodate solpec z zaokroženimi ocenami."
   ]
  },
  {
   "cell_type": "code",
   "execution_count": null,
   "metadata": {
    "collapsed": true
   },
   "outputs": [],
   "source": []
  },
  {
   "cell_type": "markdown",
   "metadata": {},
   "source": [
    "### Filtracija\n",
    "\n",
    "Ustvarite filter, ki izbere filme, ki so izšli pred 1930, in filter za filme po 2017.\n",
    "Združite ju za izbor filmov, ki so izšli pred 1930 ali po 2017."
   ]
  },
  {
   "cell_type": "code",
   "execution_count": null,
   "metadata": {
    "collapsed": true
   },
   "outputs": [],
   "source": []
  },
  {
   "cell_type": "markdown",
   "metadata": {},
   "source": [
    "Definirajte funkcijo, ki preveri ali niz vsebuje kvečjemu dve besedi. Nato s pomočjo `.apply()` izberite vse filme z imeni krajšimi od dveh besed in oceno nad 8."
   ]
  },
  {
   "cell_type": "code",
   "execution_count": null,
   "metadata": {
    "collapsed": true
   },
   "outputs": [],
   "source": []
  },
  {
   "cell_type": "markdown",
   "metadata": {},
   "source": [
    "### Histogrami\n",
    "\n",
    "Združite filme po ocenah in jih preštejte."
   ]
  },
  {
   "cell_type": "code",
   "execution_count": null,
   "metadata": {
    "collapsed": true
   },
   "outputs": [],
   "source": []
  },
  {
   "cell_type": "markdown",
   "metadata": {},
   "source": [
    "Naredite stolpični diagram teh podatkov."
   ]
  },
  {
   "cell_type": "code",
   "execution_count": null,
   "metadata": {
    "collapsed": true
   },
   "outputs": [],
   "source": []
  },
  {
   "cell_type": "markdown",
   "metadata": {},
   "source": [
    "Tabele imajo metodo `.hist()`, ki omogoča izgradnjo histogramov za stolpce. Uporabite to metodo za prikaz poenostavljenih podatkov."
   ]
  },
  {
   "cell_type": "code",
   "execution_count": null,
   "metadata": {
    "collapsed": true
   },
   "outputs": [],
   "source": []
  },
  {
   "cell_type": "markdown",
   "metadata": {},
   "source": [
    "### Izris povprečne dolžine filma glede na leto"
   ]
  },
  {
   "cell_type": "code",
   "execution_count": null,
   "metadata": {
    "collapsed": true
   },
   "outputs": [],
   "source": []
  },
  {
   "cell_type": "markdown",
   "metadata": {},
   "source": [
    "### Izris skupnega zasluzka za posamezno leto"
   ]
  },
  {
   "cell_type": "code",
   "execution_count": null,
   "metadata": {
    "collapsed": true
   },
   "outputs": [],
   "source": []
  }
 ],
 "metadata": {
  "kernelspec": {
   "display_name": "Python 3",
   "language": "python",
   "name": "python3"
  },
  "language_info": {
   "codemirror_mode": {
    "name": "ipython",
    "version": 3
   },
   "file_extension": ".py",
   "mimetype": "text/x-python",
   "name": "python",
   "nbconvert_exporter": "python",
   "pygments_lexer": "ipython3",
   "version": "3.6.1"
  }
 },
 "nbformat": 4,
 "nbformat_minor": 2
}
